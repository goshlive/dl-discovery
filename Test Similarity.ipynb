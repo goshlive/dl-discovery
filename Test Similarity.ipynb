{
 "cells": [
  {
   "cell_type": "code",
   "execution_count": 1,
   "id": "f4bbb1e5",
   "metadata": {},
   "outputs": [],
   "source": [
    "list1 = ['String', 'String', 'Integer', 'String', 'Float']\n",
    "list2 = ['Double', 'String', 'Integer', 'Float', 'Double']\n",
    "list3 = ['Riil', 'A', 'Integer', 'Float']\n",
    "list4 = ['Bool', 'B', 'Integer', 'Float']\n",
    "list5 = ['String', 'Integer', 'Float']\n",
    "list6 = ['Bool', 'Double', 'Integer']\n",
    "list7 = ['String', 'Integer', 'Float']\n",
    "list8 = ['Double', 'String', 'Integer', 'Float', 'Double']"
   ]
  },
  {
   "cell_type": "code",
   "execution_count": 6,
   "id": "958069da",
   "metadata": {},
   "outputs": [],
   "source": [
    "def jc(data1, data2):\n",
    "    set1 = set(data1)\n",
    "    set2 = set(data2)\n",
    "    jaccard = len(set1.intersection(set2)) / len(set1.union(set2))\n",
    "    return jaccard\n",
    "\n",
    "def sim(data1, data2):\n",
    "    set1 = set(data1)\n",
    "    set2 = set(data2)\n",
    "    jaccard = jc(data1, data2)\n",
    "    simm = len(set1.symmetric_difference(set2))\n",
    "    len_diff = max(simm / len(set1.union(set2)), (min(len(data1), len(data2))/max(len(data1), len(data2))))\n",
    "    #len_diff = max(simm / len(set1.intersection(set2)), (min(len(data1), len(data2))/max(len(data1), len(data2))))\n",
    "    #print(f'jaccard:{jaccard}, simm:{simm}, len_diff:{len_diff}')\n",
    "    return jaccard*len_diff    "
   ]
  },
  {
   "cell_type": "code",
   "execution_count": 10,
   "id": "f6aec344",
   "metadata": {},
   "outputs": [
    {
     "name": "stdout",
     "output_type": "stream",
     "text": [
      "Jacard:\n",
      "0.75\n",
      "0.75\n",
      "\n",
      "J-Maxsym:\n",
      "0.75\n",
      "0.44999999999999996\n"
     ]
    }
   ],
   "source": [
    "mf1 = ['String', 'String', 'Integer', 'String', 'Float']\n",
    "mf2 = ['String', 'Integer', 'Float']\n",
    "mf3 = ['Double', 'String', 'Integer', 'Float', 'Double']\n",
    "\n",
    "print('Jacard:')\n",
    "print(jc(mf1, mf3))\n",
    "print(jc(mf2, mf3))\n",
    "\n",
    "print('\\nJ-Maxsym:')\n",
    "print(sim(mf1, mf3))\n",
    "print(sim(mf2, mf3))"
   ]
  },
  {
   "cell_type": "code",
   "execution_count": 20,
   "id": "d89b377d",
   "metadata": {},
   "outputs": [
    {
     "name": "stdout",
     "output_type": "stream",
     "text": [
      "list1:['String', 'String', 'Integer', 'String', 'Float'], list2:['Double', 'String', 'Integer', 'Float', 'Double']\n",
      "set1:{'String', 'Float', 'Integer'}, set2:{'String', 'Float', 'Integer', 'Double'}\n",
      "sim_1_2:0.75\n",
      "sim_3_4:0.3333333333333333\n",
      "sim_5_6:0.2\n",
      "sim_7_8:0.44999999999999996\n"
     ]
    }
   ],
   "source": [
    "print(f'list1:{list1}, list2:{list2}')\n",
    "print(f'set1:{set(list1)}, set2:{set(list2)}')\n",
    "print(f'sim_1_2:{sim(list1, list2)}')\n",
    "print(f'sim_3_4:{sim(list3, list4)}')\n",
    "print(f'sim_5_6:{sim(list5, list6)}')\n",
    "print(f'sim_7_8:{sim(list7, list8)}')"
   ]
  },
  {
   "cell_type": "code",
   "execution_count": 23,
   "id": "c3260378",
   "metadata": {},
   "outputs": [
    {
     "name": "stdout",
     "output_type": "stream",
     "text": [
      "0.75\n",
      "0.75\n"
     ]
    }
   ],
   "source": [
    "def jaccard_similarity(set1, set2):\n",
    "    # intersection of two sets\n",
    "    intersection = len(set1.intersection(set2))\n",
    "    # Unions of two sets\n",
    "    union = len(set1.union(set2))\n",
    "     \n",
    "    return intersection / union\n",
    "\n",
    "print(jaccard_similarity(set(list1), set(list2)))\n",
    "print(jaccard_similarity(set(list7), set(list8)))"
   ]
  },
  {
   "cell_type": "code",
   "execution_count": 3,
   "id": "38247129",
   "metadata": {},
   "outputs": [
    {
     "name": "stdout",
     "output_type": "stream",
     "text": [
      "Score 1-2: 0.3333333333333333\n",
      "Score 1-3: -0.375\n",
      "Score 2-2: 0.3333333333333333\n",
      "Score 3-4: -1.0\n"
     ]
    }
   ],
   "source": [
    "def compute_similarity(list_a, list_b):\n",
    "    \n",
    "    set_a = set(list_a)\n",
    "    set_b = set(list_b)\n",
    "    \n",
    "    # Calculate the Jaccard similarity of the unique identifiers\n",
    "    jaccard_similarity = len(set_a.intersection(set_b)) / len(set_a.union(set_b))\n",
    "    \n",
    "    # Calculate the set difference\n",
    "    set_difference = len(unique_a.symmetric_difference(unique_b))\n",
    "    \n",
    "    # Calculate the adjusted similarity score\n",
    "    similarity_score = (jaccard_similarity - set_difference) / len(unique_a.union(unique_b))\n",
    "    \n",
    "    return similarity_score\n",
    "\n",
    "# Compute similarity scores\n",
    "score_1_2 = compute_similarity(list1, list2)\n",
    "score_1_3 = compute_similarity(list1, list3)\n",
    "score_2_2 = compute_similarity(list2, list2)\n",
    "score_3_4 = compute_similarity(list3, list4)\n",
    "\n",
    "print(\"Score 1-2:\", score_1_2)\n",
    "print(\"Score 1-3:\", score_1_3)\n",
    "print(\"Score 2-2:\", score_2_2)\n",
    "print(\"Score 3-4:\", score_3_4)\n"
   ]
  }
 ],
 "metadata": {
  "kernelspec": {
   "display_name": "Python 3 (ipykernel)",
   "language": "python",
   "name": "python3"
  },
  "language_info": {
   "codemirror_mode": {
    "name": "ipython",
    "version": 3
   },
   "file_extension": ".py",
   "mimetype": "text/x-python",
   "name": "python",
   "nbconvert_exporter": "python",
   "pygments_lexer": "ipython3",
   "version": "3.9.12"
  }
 },
 "nbformat": 4,
 "nbformat_minor": 5
}
