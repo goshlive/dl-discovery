{
 "cells": [
  {
   "cell_type": "code",
   "execution_count": null,
   "id": "7710c5c9",
   "metadata": {
    "scrolled": false
   },
   "outputs": [],
   "source": [
    "import time\n",
    "import numpy as np\n",
    "\n",
    "s_t = time.strftime(\"%H:%M:%S\", time.localtime())\n",
    "start_time = time.perf_counter()\n",
    "print(f\"Program META (Data: Lcs-Uci) started at {s_t}\")\n",
    "\n",
    "#preparation\n",
    "%run Discovery.LSH.Networkx.Module.ipynb\n",
    "directory = \"data\\\\ics_uci\\\\all\\\\dataset\\\\\"\n",
    "max_size = np.inf\n",
    "encoding='ISO-8859-1'\n",
    "sep = \";\"\n",
    "fresh = False\n",
    "n_hash_fs=100\n",
    "n_bands = 20\n",
    "\n",
    "#draw charts\n",
    "csv_infer, datasets, ini_nodes, init_edges, merge_nodes, merge_edges = prepare(directory, fresh, encoding=encoding, sep=sep, max_size=max_size, n_hash_fs=n_hash_fs, n_bands=n_bands)\n",
    "\n",
    "max_metadata_length=150\n",
    "untrained_model, trained_kfold_model, trained_shuffle_model, communities, community_labels, feature_vocab, X, y = \\\n",
    "draw_all(csv_infer, datasets, ini_nodes, init_edges, merge_nodes, merge_edges, encoding=encoding, sep=sep, max_metadata_length=max_metadata_length)\n",
    "\n",
    "#redo metrics\n",
    "random_state=50\n",
    "train_kfold(community_labels, X, y)\n",
    "\n",
    "test_size=0.75\n",
    "random_state=100\n",
    "train_shuffle(community_labels, X, y, test_size, random_state)\n",
    "\n",
    "finish_time = time.perf_counter()\n",
    "e_t = time.strftime(\"%H:%M:%S\", time.localtime())\n",
    "print(f\"Program META (Data: Lcs-Uci) finished at {e_t} in {(finish_time-start_time)/60} minutes\")"
   ]
  }
 ],
 "metadata": {
  "kernelspec": {
   "display_name": "Python 3 (ipykernel)",
   "language": "python",
   "name": "python3"
  },
  "language_info": {
   "codemirror_mode": {
    "name": "ipython",
    "version": 3
   },
   "file_extension": ".py",
   "mimetype": "text/x-python",
   "name": "python",
   "nbconvert_exporter": "python",
   "pygments_lexer": "ipython3",
   "version": "3.9.12"
  }
 },
 "nbformat": 4,
 "nbformat_minor": 5
}
