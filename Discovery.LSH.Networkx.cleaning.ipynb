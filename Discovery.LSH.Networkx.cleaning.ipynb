{
 "cells": [
  {
   "cell_type": "code",
   "execution_count": 81,
   "id": "c3ee82da",
   "metadata": {},
   "outputs": [],
   "source": [
    "import os\n",
    "import csv\n",
    "import re\n",
    "\n",
    "def replace_sep(match, separator):\n",
    "    return match.group(0).replace(separator, '_').replace('\"', '').replace(\"'\", '').replace(' ', '')\n",
    "\n",
    "def modify_line(line, separator): \n",
    "    #print(\"Input line:\", line) \n",
    "    return re.sub(r'\"[^\"]+\"|\\'[^\\']+\\'', lambda match: replace_sep(match, separator), line)\n",
    "\n",
    "def clean_it(input_directory, output_directory, separator):    \n",
    "    if os.path.isdir(input_directory):\n",
    "        print(f\"Cleaning INPUT: {input_directory}\")\n",
    "        print(f\"Cleaning OUTPUT: {output_directory}\")\n",
    "\n",
    "        # Create output directory if it doesn't exist\n",
    "        if not os.path.exists(output_directory):\n",
    "            os.makedirs(output_directory)\n",
    "\n",
    "        for filename in os.listdir(input_directory):\n",
    "            if filename.endswith(\".csv\"):\n",
    "                #print(f\"Filename: {filename}\")\n",
    "                #if not (filename.lower()==\"TCGA_GBM_LGG_Mutations_all.csv\".lower()):\n",
    "                #    continue\n",
    "                \n",
    "                input_filename = os.path.join(input_directory, filename)\n",
    "                output_filename = os.path.join(output_directory, filename)\n",
    "\n",
    "                # Read the CSV file and modify the header\n",
    "                with open(input_filename, 'r', newline='', encoding='utf-8') as infile, \\\n",
    "                     open(output_filename, 'w', newline='', encoding='utf-8') as outfile:\n",
    "\n",
    "                    reader = csv.reader(infile)\n",
    "                    writer = csv.writer(outfile)\n",
    "                    \n",
    "                    header = next(reader)\n",
    "                    modified_header = modify_line(header[0], separator)\n",
    "                    writer.writerow([modified_header])\n",
    "                        \n",
    "                    for row in reader:\n",
    "                        #print(row)\n",
    "                        if (len(row)>0):\n",
    "                            modified_row = modify_line(row[0], separator)\n",
    "                            writer.writerow([modified_row])\n",
    "\n",
    "def change_sep(input_directory, old_sep, new_sep):\n",
    "    if os.path.isdir(input_directory):\n",
    "        for filename in os.listdir(input_directory):\n",
    "            if filename.endswith(\".csv\"):\n",
    "                readFile = open(f'{input_directory}\\\\{filename}', \"r\")\n",
    "                data = readFile.read()\n",
    "                data = data.replace(old_sep, new_sep)\n",
    "                writeFile = open(f'{input_directory}\\\\{filename}', \"w\")\n",
    "                writeFile.write(data)                \n",
    "                        \n",
    "def rename_it(input_directory):    \n",
    "    if os.path.isdir(input_directory):\n",
    "        print(f\"Renaming INPUT: {input_directory}\")\n",
    "\n",
    "        for filename in os.listdir(input_directory):\n",
    "            if filename.endswith(\".problematic\"):\n",
    "                old = f\"{input_directory}\\\\{filename}\"\n",
    "                new = f\"{input_directory}\\\\{os.path.splitext(filename)[0]}\"\n",
    "                os.rename(old, new)"
   ]
  },
  {
   "cell_type": "code",
   "execution_count": 45,
   "id": "bc6fec97",
   "metadata": {},
   "outputs": [
    {
     "name": "stdout",
     "output_type": "stream",
     "text": [
      "LGG,TCGA-LGG,TCGA-DU-8164,Male,51 years 108 days,Oligoden_droglioma_NOS,white,MUTATED\n"
     ]
    }
   ],
   "source": [
    "col_name = \"LGG,TCGA-LGG,TCGA-DU-8164,Male,51 years 108 days,'Oligoden,droglioma, NOS',white,MUTATED\"\n",
    "print(modify_column_name(col_name, ','))"
   ]
  },
  {
   "cell_type": "code",
   "execution_count": 84,
   "id": "4a29e8bc",
   "metadata": {},
   "outputs": [],
   "source": [
    "input_dir = 'data\\\\ics_uci\\\\all\\\\cleaned\\\\dataset'\n",
    "change_sep(input_dir, ',', '|||')\n",
    "change_sep(input_dir, ';', ',')\n",
    "change_sep(input_dir, '|||', ';')"
   ]
  },
  {
   "cell_type": "code",
   "execution_count": 4,
   "id": "773518e5",
   "metadata": {},
   "outputs": [
    {
     "name": "stdout",
     "output_type": "stream",
     "text": [
      "Renaming INPUT: data\\domain_net\\table_union_search\\csvfiles\n",
      "Renaming INPUT: data\\domain_net\\table_union_search\\csvfiles_no_homographs\n"
     ]
    }
   ],
   "source": [
    "#input_dir = 'data\\\\romulo\\\\data-lakes\\\\clustering'\n",
    "input_dir = 'data\\\\domain_net\\\\table_union_search'\n",
    "if os.path.isdir(input_dir):\n",
    "    for _dir in os.listdir(input_dir):\n",
    "        in_dir = f'{input_dir}\\\\{_dir}'        \n",
    "        rename_it(in_dir)"
   ]
  },
  {
   "cell_type": "code",
   "execution_count": 73,
   "id": "25d605c0",
   "metadata": {
    "scrolled": false
   },
   "outputs": [
    {
     "name": "stdout",
     "output_type": "stream",
     "text": [
      "Cleaning INPUT: data\\ics_uci\\all\\dataset\n",
      "Cleaning OUTPUT: data\\ics_uci\\all\\cleaned\\dataset\n"
     ]
    }
   ],
   "source": [
    "#input_dir = 'data\\\\romulo\\\\data-lakes\\\\clustering'\n",
    "#output_dir = 'data\\\\romulo\\\\data-lakes\\\\cleaned'\n",
    "\n",
    "#input_dir = 'data\\\\domain_net\\\\table_union_search'\n",
    "#output_dir = 'data\\\\domain_net\\\\table_union_search\\\\cleaned'\n",
    "\n",
    "input_dir = 'data\\\\ics_uci\\\\all'\n",
    "output_dir = 'data\\\\ics_uci\\\\all\\\\cleaned'\n",
    "separator = ';'\n",
    "\n",
    "if os.path.isdir(input_dir):\n",
    "    for _dir in os.listdir(input_dir):\n",
    "        in_dir = f'{input_dir}\\\\{_dir}'\n",
    "        out_dir = f'{output_dir}\\\\{_dir}'\n",
    "        clean_it(in_dir, out_dir, separator)"
   ]
  },
  {
   "cell_type": "code",
   "execution_count": 49,
   "id": "600a4a33",
   "metadata": {},
   "outputs": [
    {
     "name": "stdout",
     "output_type": "stream",
     "text": [
      "LGG;TCGA-LGG;TCGA-DU-8164;Male;51 years 108 days;Oligodendroglioma_NOS;white;MUTATED;NOT_MUTATED;NOT_MUTATED;NOT_MUTATED;NOT_MUTATED;NOT_MUTATED;NOT_MUTATED;MUTATED;NOT_MUTATED;NOT_MUTATED;MUTATED;NOT_MUTATED;NOT_MUTATED;NOT_MUTATED;NOT_MUTATED;NOT_MUTATED;NOT_MUTATED;NOT_MUTATED;NOT_MUTATED;NOT_MUTATED\n"
     ]
    }
   ],
   "source": [
    "import re\n",
    "\n",
    "def replace_semicolons(match, separator):\n",
    "    return match.group(0).replace(separator, '_').replace('\"', '').replace(\"'\", '').replace(' ', '')\n",
    "\n",
    "input_str = 'LGG;TCGA-LGG;TCGA-DU-8164;Male;51 years 108 days;\"Oligodendroglioma; NOS\";white;MUTATED;NOT_MUTATED;NOT_MUTATED;NOT_MUTATED;NOT_MUTATED;NOT_MUTATED;NOT_MUTATED;MUTATED;NOT_MUTATED;NOT_MUTATED;MUTATED;NOT_MUTATED;NOT_MUTATED;NOT_MUTATED;NOT_MUTATED;NOT_MUTATED;NOT_MUTATED;NOT_MUTATED;NOT_MUTATED;NOT_MUTATED'\n",
    "separator = ';'\n",
    "\n",
    "output_str = re.sub(r'\"[^\"]+\"|\\'[^\\']+\\'', lambda match: replace_semicolons(match, separator), input_str)\n",
    "print(output_str)"
   ]
  }
 ],
 "metadata": {
  "kernelspec": {
   "display_name": "Python 3 (ipykernel)",
   "language": "python",
   "name": "python3"
  },
  "language_info": {
   "codemirror_mode": {
    "name": "ipython",
    "version": 3
   },
   "file_extension": ".py",
   "mimetype": "text/x-python",
   "name": "python",
   "nbconvert_exporter": "python",
   "pygments_lexer": "ipython3",
   "version": "3.9.12"
  }
 },
 "nbformat": 4,
 "nbformat_minor": 5
}
